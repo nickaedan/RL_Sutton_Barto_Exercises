{
 "cells": [
  {
   "cell_type": "markdown",
   "metadata": {},
   "source": [
    "### Ex1.1 \n",
    "If it played against itself then it would still be playing against an imperfect opponent, because it makes exploratory choices that aren't necessarily the best to make. So it shouldn't learn a different policy in theory. \n",
    "\n",
    "### Ex 1.2 \n",
    "If we took symmetry into account then we could reduce the search space of possible actions that the learning agent has to look over. If however the opponent doesn't take symmetry into account then we shouldn't either because it's possible that the opponent has some certain preferences, and doesn't consider symmetric positions to be the same. So unless we are certain of our opponent's preference we should treat symmetric positions as different ones.\n",
    "\n",
    "### Ex 1.3\n",
    "A greedy player would learn to play worse than a nongreedy player because it won't explore the entire state space. For example an issue that could arise is that, the greedy player never explores certain moves which could potentially lead to victory or a better state.\n",
    "\n",
    "### Ex 1.4\n",
    "If we don't learn from exploratory moves then we would have probabilities dependent upon optimal moves being played out. \n",
    "Better to play with this because otherwise I'm considering not optimal moves in my probabilities. \n",
    "\n",
    "### Ex 1.5\n",
    "We could improve the reinforcement learning player by also keeping track of the opponents moves. Learning patterns in their style of play, can help identify certain "
   ]
  },
  {
   "cell_type": "code",
   "execution_count": null,
   "metadata": {},
   "outputs": [],
   "source": []
  }
 ],
 "metadata": {
  "kernelspec": {
   "display_name": "Python 3",
   "language": "python",
   "name": "python3"
  },
  "language_info": {
   "codemirror_mode": {
    "name": "ipython",
    "version": 3
   },
   "file_extension": ".py",
   "mimetype": "text/x-python",
   "name": "python",
   "nbconvert_exporter": "python",
   "pygments_lexer": "ipython3",
   "version": "3.6.4"
  }
 },
 "nbformat": 4,
 "nbformat_minor": 2
}
