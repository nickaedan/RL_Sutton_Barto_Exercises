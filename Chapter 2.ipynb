{
 "cells": [
  {
   "cell_type": "markdown",
   "metadata": {},
   "source": [
    "### Ex2.1\n",
    "2 actions and $\\epsilon = 0.5$, probability of greedy action being selected =   \n",
    "$0.5+0.5*(\\frac{1}{2}) = 0.75$  \n",
    "Since $\\epsilon = 0.5$, either it chose the greedy action in case 1 or if it's randomly going to choose, then it has two options to choose from. So two cases and in case 2 it has two choices to choose from. \n",
    "\n",
    "### Ex2.2\n",
    "k = 4 actions \n",
    "Q1(a) = 0 initially for all a (expected value from action a) \n",
    "\n",
    "A1 = 1, R1 = -1, \n",
    "A2 = 2, R2 = 1, \n",
    "A3 = 2, R3 = -2, \n",
    "A4 = 2, R4 = 2, \n",
    "A5 = 3, R5 = 0\n",
    "\n",
    "At some of these time steps e (epsilon) case may have occured i.e an action could have been selected at random. It is using the sample-average method.\n",
    "\n",
    "$$Q_t(a) = \\frac{\\text{sum of rewards when taken prior to t}}{\\text{number of times a taken prior to t}}$$\n",
    "\n",
    "* Q1(a) = 0 (for all a)\n",
    "___\n",
    "* Q2(1) = $\\frac{-1}{1} = -1$  \n",
    "Q2($A - \\{1\\}$) = 0 (because haven't observed any other actions yet) (actions other than 1)  \n",
    "___\n",
    "* Q3(1) = -1  \n",
    "Q3(2) = $\\frac{1}{1} = 1$  \n",
    "Q3($A - \\{1,2\\}$) = 0\n",
    "___\n",
    "* Q4(1) = -1  \n",
    "Q4(2) =  $\\frac{1+(-2)}{2} = \\frac{-1}{2} = -0.5 $  \n",
    "Q4($A - \\{1,2\\}$) = 0\n",
    "___\n",
    "* Q5(1) = -1  \n",
    "Q5(2) = $\\frac{1+(-2)+2}{3} = \\frac{1}{3} = 0.33 $    \n",
    "Q5($A - \\{1,2\\}$) = 0\n",
    "___ \n",
    "\n",
    "Action |Q1 |Q2 |Q3 |Q4  |Q5\n",
    "-------|---|---|---|--- |---\n",
    "1      | 0 |-1 |-1 |-1  |-1  | \n",
    "2      | 0 | 0 | 1 |-0.5|0.33|\n",
    "3      | 0 | 0 | 0 | 0  | 0  |\n",
    "4      | 0 | 0 | 0 | 0  | 0  |\n",
    "5      | 0 | 0 | 0 | 0  | 0  |\n",
    "action taken | a1| a2| a2| a2| a3\n",
    "\n",
    "\n",
    "* **Time steps at which this definitely occured** =   \n",
    "t = 4 (because it should have picked a3,a4,a5 greedily but picked a2 instead)   \n",
    "\n",
    "* **Time steps at which this could have possibly occured** =   \n",
    "all of the time steps because it's definitely possible that it went into the $\\epsilon$ case and then still picked the greedy choice "
   ]
  },
  {
   "cell_type": "markdown",
   "metadata": {},
   "source": [
    "### Ex 2.3\n",
    "In the long run, $\\epsilon = 0.01$ will perform better, because it will pick the optimal moves   \n",
    "$$0.99 + 0.01*(1/10) = 0.99 + 0.001 = 0.991 = 99.1\\% $$ of the time\n",
    "\n",
    "(Case 1 where it picks greedy + case 2 and then in case 2 picks greedy randomly)*   \n",
    "\n",
    "However in $\\epsilon = 0.1$ it will pick the optimal moves  \n",
    "$$0.9 + 0.1*(1/10) = 0.9 + 0.01 = 0.91 = 91\\% $$ of the time \n",
    "\n",
    "So in the long run $\\epsilon = 0.01$ will perform better, but $\\epsilon = 0.1$ will improve faster.\n",
    "\n",
    "** \\* Made the assumption that there is only one greedy choice to pick from so 1/10 otherwise in practise it could be 2/10 or anything else, cause there could be more than on choice that is the greedy one **"
   ]
  },
  {
   "cell_type": "markdown",
   "metadata": {},
   "source": [
    "### Ex 2.4 \n",
    "\n"
   ]
  },
  {
   "cell_type": "code",
   "execution_count": null,
   "metadata": {},
   "outputs": [],
   "source": []
  }
 ],
 "metadata": {
  "kernelspec": {
   "display_name": "Python 3",
   "language": "python",
   "name": "python3"
  },
  "language_info": {
   "codemirror_mode": {
    "name": "ipython",
    "version": 3
   },
   "file_extension": ".py",
   "mimetype": "text/x-python",
   "name": "python",
   "nbconvert_exporter": "python",
   "pygments_lexer": "ipython3",
   "version": "3.6.4"
  }
 },
 "nbformat": 4,
 "nbformat_minor": 2
}
