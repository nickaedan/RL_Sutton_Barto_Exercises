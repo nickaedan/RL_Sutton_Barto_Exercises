{
 "cells": [
  {
   "cell_type": "markdown",
   "metadata": {},
   "source": [
    "### Ex2.1\n",
    "2 actions and $\\epsilon = 0.5$,   \n",
    "probability of greedy action being selected =   \n",
    "$0.5+0.5*(\\frac{1}{2}) = 0.75$  \n",
    "Since $\\epsilon = 0.5$, either it chose the greedy action in case 1 or if it's randomly going to choose, then it has two options to choose from. So two cases and in case 2 it has two choices to choose from. \n",
    "\n",
    "### Ex2.2\n",
    "k = 4 actions \n",
    "Q1(a) = 0 initially for all a (expected value from action a) \n",
    "\n",
    "A1 = 1, R1 = -1, \n",
    "A2 = 2, R2 = 1, \n",
    "A3 = 2, R3 = -2, \n",
    "A4 = 2, R4 = 2, \n",
    "A5 = 3, R5 = 0\n",
    "\n",
    "At some of these time steps e (epsilon) case may have occured i.e an action could have been selected at random. It is using the sample-average method.\n",
    "\n",
    "$$Q_t(a) = \\frac{\\text{sum of rewards when taken prior to t}}{\\text{number of times a taken prior to t}}$$\n",
    "\n",
    "* Q1(a) = 0 (for all a)\n",
    "___\n",
    "* Q2(1) = $\\frac{-1}{1} = -1$  \n",
    "Q2($A - \\{1\\}$) = 0 (because haven't observed any other actions yet) (actions other than 1)  \n",
    "___\n",
    "* Q3(1) = -1  \n",
    "Q3(2) = $\\frac{1}{1} = 1$  \n",
    "Q3($A - \\{1,2\\}$) = 0\n",
    "___\n",
    "* Q4(1) = -1  \n",
    "Q4(2) =  $\\frac{1+(-2)}{2} = \\frac{-1}{2} = -0.5 $  \n",
    "Q4($A - \\{1,2\\}$) = 0\n",
    "___\n",
    "* Q5(1) = -1  \n",
    "Q5(2) = $\\frac{1+(-2)+2}{3} = \\frac{1}{3} = 0.33 $    \n",
    "Q5($A - \\{1,2\\}$) = 0\n",
    "___ \n",
    "\n",
    "Action |Q1 |Q2 |Q3 |Q4  |Q5\n",
    "-------|---|---|---|--- |---\n",
    "1      | 0 |-1 |-1 |-1  |-1  | \n",
    "2      | 0 | 0 | 1 |-0.5|0.33|\n",
    "3      | 0 | 0 | 0 | 0  | 0  |\n",
    "4      | 0 | 0 | 0 | 0  | 0  |\n",
    "5      | 0 | 0 | 0 | 0  | 0  |\n",
    "action taken | a1| a2| a2| a2| a3\n",
    "\n",
    "\n",
    "* **Time steps at which this definitely occured** =   \n",
    "t = 4 (because it should have picked a3,a4,a5 greedily but picked a2 instead)   \n",
    "\n",
    "* **Time steps at which this could have possibly occured** =   \n",
    "all of the time steps because it's definitely possible that it went into the $\\epsilon$ case and then still picked the greedy choice "
   ]
  },
  {
   "cell_type": "markdown",
   "metadata": {},
   "source": [
    "### Ex 2.3\n",
    "In the long run, $\\epsilon = 0.01$ will perform better, because it will pick the optimal moves   \n",
    "$$0.99 + 0.01*(1/10) = 0.99 + 0.001 = 0.991 = 99.1\\% $$ of the time\n",
    "\n",
    "(Case 1 where it picks greedy + case 2 and then in case 2 picks greedy randomly)*   \n",
    "\n",
    "However in $\\epsilon = 0.1$ it will pick the optimal moves  \n",
    "$$0.9 + 0.1*(1/10) = 0.9 + 0.01 = 0.91 = 91\\% $$ of the time \n",
    "\n",
    "So in the long run $\\epsilon = 0.01$ will perform better, but $\\epsilon = 0.1$ will improve faster.\n",
    "\n",
    "**\\*Made the assumption that there is only one greedy choice to pick from so 1/10 otherwise in practise it could be 2/10 or anything else, cause there could be more than on choice that is the greedy one**"
   ]
  },
  {
   "cell_type": "markdown",
   "metadata": {},
   "source": [
    "### Ex 2.4 \n",
    "\n",
    "Using non-constant step-size parameter $\\alpha_n$ we get - \n",
    "$$ Q_{n+1} = \\prod_{i=1}^{n} (1-\\alpha_i) Q_1 + \\sum_{i=1}^{n} \\alpha_i \\prod_{j=i+1}^{n} (1-\\alpha_j) R_i $$\n"
   ]
  },
  {
   "cell_type": "markdown",
   "metadata": {},
   "source": [
    "\n",
    "### Ex2.6\n",
    "\n",
    "**Q)** Exercise 2.6: Mysterious Spikes The results shown in Figure 2.3 should be quite reliable because they are averages over 2000 individual, randomly chosen 10-armed bandit tasks. Why, then, are there oscillations and spikes in the early part of the curve for the optimistic method? In other words, what might make this method perform particularly better or worse, on average, on particular early steps?\n",
    "\n",
    "_______\n",
    "\n",
    "**Ans)** \n",
    "For particular early steps it's possible that the actions it hasn't explored yet are the optimal ones, and since they have optimistic initial values, it's bound to explore them and that causes the spike in the graph. "
   ]
  },
  {
   "cell_type": "markdown",
   "metadata": {},
   "source": [
    "### Ex2.7\n",
    "\n",
    "Not sure yet "
   ]
  },
  {
   "cell_type": "markdown",
   "metadata": {},
   "source": [
    "### Ex2.8 \n",
    "\n",
    "$$ A_t = argmax_a[Q_t(a) + c \\sqrt{\\frac{\\ln (t)}{N_t(a)}}]$$\n",
    "\n",
    "* where $N_t(a) = \\text{number of times a has been selected prior to time t}$ \n",
    "* $c > 0$ is a constant\n",
    "* If $N_t(a) = 0 $ then a is considered maximizing action\n",
    "\n",
    "At t =11, for k=10 bandits, it would have selected all the other bandits exactly once before. S0 at t=11 the uncertainity between all the bandits is the same, and it would pick the one with the best estimated Q value so far. In subsequent steps the uncertainity for the other bandits would increase (since $ln t$ is increasing and $N_t(a)$ is remaining the same). So for a sufficiently large c it would be more inclined to explore those options, and as a result not pick the greedy options. So the reward decreases in subsequent steps. "
   ]
  },
  {
   "cell_type": "markdown",
   "metadata": {},
   "source": [
    "### Ex 2.9\n",
    "For k = 2 \n",
    "$$ \\frac{1}{1+e^{H_t(2)-H_t(1)}} $$\n"
   ]
  },
  {
   "cell_type": "markdown",
   "metadata": {},
   "source": [
    "### Ex 2.10 \n",
    "\n",
    "**Q)** Exercise 2.10 Suppose you face a 2-armed bandit task whose true action values change randomly from time step to time step. Specifically, suppose that, for any time step, the true values of actions 1 and 2 are respectively 0.1 and 0.2 with probability 0.5 (case A), and 0.9 and 0.8 with probability 0.5 (case B). If you are not able to tell which case you face at any step, what is the best expectation of success you can achieve and how should you behave to achieve it? Now suppose that on each step you are told whether you are facing case A or case B (although you still don’t know the true action values). This is an associative search task. What is the best expectation of success you can achieve in this task, and how should you behave to achieve it?\n",
    "\n",
    "____\n",
    "\n",
    "**Ans)** \n",
    "$$E[A1] = 0.5*0.1 + 0.5*0.9 = 0.5$$\n",
    "\n",
    "$$E[A2] = 0.5*0.2 + 0.5*0.8 = 0.5$$\n",
    "\n",
    "So best expected value is 0.5, and you can pick either A1 or A2 to achieve it.\n",
    "\n",
    "If you knew which Case you are in, then in **Case A pick A2**, and in **Case B pick A1**\n"
   ]
  },
  {
   "cell_type": "markdown",
   "metadata": {},
   "source": [
    "### Ex2.11 \n",
    "\n",
    "**Q)** Exercise 2.11 (programming) Make a figure analogous to Figure 2.6 for the nonstationary case outlined in Exercise 2.5. Include the constant-step-size \"$\\epsilon$-greedy algorithm with $\\alpha$=0.1. Use runs of 200,000 steps and, as a performance measure for each algorithm and parameter setting, use the average reward over the last 100,000 steps."
   ]
  },
  {
   "cell_type": "markdown",
   "metadata": {},
   "source": [
    "\n",
    "\n",
    "### Ex2.5"
   ]
  },
  {
   "cell_type": "code",
   "execution_count": 98,
   "metadata": {},
   "outputs": [],
   "source": [
    "import numpy as np\n",
    "import matplotlib.pyplot as plt\n",
    "import random \n",
    "%matplotlib inline\n",
    "\n",
    "\n",
    "\n",
    "k = 10\n",
    "epsilon = 0.1 \n",
    "\n",
    "#indexing actions by index in list so Q[0] is for a0 \n",
    "q = [1]*k #initially they are all equal \n",
    "Q = [0]*k #intial estimates \n",
    "N = [0]*k #initial n values, number of times the action has occured essentially \n",
    "\n",
    "\n",
    "def bandit(action):\n",
    "    \"\"\"\n",
    "    Returns reward for action by adding noise at each call to q  \n",
    "    \"\"\"\n",
    "    global q\n",
    "    noise = np.random.normal(0,0.01,10) #generate 10 values with mean 0 and sd 0.01 from a normal distribution\n",
    "    q = np.add(q, noise)\n",
    "    #return q[action]\n",
    "    #if you want noise in reward\n",
    "    return np.random.normal(q[action],1)    \n",
    "    \n",
    "def simActionVal(timeSteps, alpha=0):\n",
    "    \"\"\"\n",
    "    When alpha = 0 (default)\n",
    "    Simulates for specified time steps the sample average method i.e action value method \n",
    "    using alpha = 1/n \n",
    "    \n",
    "    Otherwise (alpha != 0)\n",
    "    Simulates for specified time steps the exponential recency-weighted average i.e action value method \n",
    "    using a constant alpha\n",
    "    \n",
    "    Returns rewards received as a list with index of the reward indicative of the time step \n",
    "    and whether it picked the optimal action or not for each time step as a list of 1's and 0's\n",
    "    (1 = picked optimal, 0 = didn't pick optimal)\n",
    "    \"\"\"\n",
    "    global q, Q , N\n",
    "    \n",
    "   \n",
    "    rewards = [] #rewards received \n",
    "    pickedBestAction = [] #1 represents that it picked the optimal/best action \n",
    "    #totalReward = 0\n",
    "    #averageRewards = []\n",
    "    #optimalActions = [] # percentage of times it picked the best action upto kth time step \n",
    "    \n",
    "    pickedBest = 0 \n",
    "    \n",
    "    for a in range(timeSteps):\n",
    "        if random.random()<epsilon: #pick an action randomly\n",
    "            action = random.randint(0,k-1) #randint takes inclusive of upper bound\n",
    "        else : \n",
    "            action = np.argmax(Q) #argMax_a Q(a)\n",
    "        \n",
    "        R = bandit(action) #reward \n",
    "        N[action] = N[action] + 1 \n",
    "        \n",
    "       \n",
    "        #totalReward += R  \n",
    "        #averageRewards.append((totalReward/(a+1)))\n",
    "        \n",
    "        rewards.append(R) #add the reward received at time step 'a' \n",
    "      \n",
    "        bestAction = np.argmax(q) #any of the optimal ones if I picked it \n",
    "        \n",
    "        if bestAction == action: \n",
    "            pickedBest += 1\n",
    "            pickedBestAction.append(1) \n",
    "        else:\n",
    "            pickedBestAction.append(0)\n",
    "        \n",
    "        #optimalActions.append(pickedBest/(a+1))\n",
    "        \n",
    "        #Sample average\n",
    "        if alpha == 0: \n",
    "            Q[action] = Q[action] + (1/N[action])*(R-Q[action]) \n",
    "        #constant alpha\n",
    "        else :         \n",
    "            Q[action] = Q[action] + (alpha)*(R-Q[action]) \n",
    "            \n",
    "    return rewards, pickedBestAction\n",
    "\n",
    "def reInit():\n",
    "    \"\"\"\n",
    "    Re intialises values for q, Q and N \n",
    "    \"\"\"\n",
    "    global q, Q, N \n",
    "    q = [1]*k #initially they are all equal \n",
    "    Q = [0]*k #intial estimates \n",
    "    N = [0]*k #initial n values, number of times the action has occured essentially \n",
    "\n",
    "\n",
    "\n",
    "\n"
   ]
  },
  {
   "cell_type": "code",
   "execution_count": 103,
   "metadata": {},
   "outputs": [],
   "source": [
    "steps = 2000"
   ]
  },
  {
   "cell_type": "code",
   "execution_count": 104,
   "metadata": {},
   "outputs": [],
   "source": [
    "def simIndependentRuns(runs, timeSteps=steps, alpha=0):\n",
    "    reInit()\n",
    "    rMean = []\n",
    "    optimalMean = []\n",
    "\n",
    "    for a in range(runs):\n",
    "        r,b = simActionVal(timeSteps,alpha)\n",
    "        if a == 0:\n",
    "            rMean = r\n",
    "            optimalMean = b\n",
    "        else : \n",
    "            rMean = np.add(rMean,r)\n",
    "            optimalMean = np.add(optimalMean,b)\n",
    "        reInit() \n",
    "    return np.array(rMean)/runs,np.array(optimalMean)/runs"
   ]
  },
  {
   "cell_type": "code",
   "execution_count": 105,
   "metadata": {},
   "outputs": [],
   "source": [
    "rMean, optimalMean = simIndependentRuns(1000, alpha=0)\n",
    "\n"
   ]
  },
  {
   "cell_type": "code",
   "execution_count": 106,
   "metadata": {},
   "outputs": [],
   "source": [
    "rMean2, optimalMean2 = simIndependentRuns(1000, alpha=0.1)\n"
   ]
  },
  {
   "cell_type": "code",
   "execution_count": 111,
   "metadata": {},
   "outputs": [
    {
     "data": {
      "image/png": "[encoded data removed]",
      "text/plain": [
       "<Figure size 432x288 with 1 Axes>"
      ]
     },
     "metadata": {},
     "output_type": "display_data"
    }
   ],
   "source": [
    "#plt.yticks(np.arange(0, 1, step=0.2))\n",
    "#plt.yticks(np.arange(0, 1.5, step=0.5))\n",
    "plt.axis([0,steps,0,2.5])\n",
    "plt.yticks(np.arange(0, 3, step=0.5))\n",
    "plt.plot(range(steps), rMean, label = \"sample average\")\n",
    "plt.plot(range(steps), rMean2, label= \"alpha = 0.1\")\n",
    "plt.legend()\n",
    "plt.show()\n",
    "\n",
    "#print(max(optimalMean2*100))"
   ]
  },
  {
   "cell_type": "code",
   "execution_count": 109,
   "metadata": {},
   "outputs": [
    {
     "data": {
      "image/png": "[encoded data removed]",
      "text/plain": [
       "<Figure size 432x288 with 1 Axes>"
      ]
     },
     "metadata": {},
     "output_type": "display_data"
    }
   ],
   "source": [
    "plt.axis([0,steps,0,100])\n",
    "plt.plot(range(steps),optimalMean*100, label = \"sample average\")\n",
    "plt.plot(range(steps),optimalMean2*100, label = \"alpha = 0.1\")\n",
    "plt.legend()\n",
    "plt.show()"
   ]
  },
  {
   "cell_type": "code",
   "execution_count": 373,
   "metadata": {},
   "outputs": [
    {
     "name": "stdout",
     "output_type": "stream",
     "text": [
      "[1. 0. 0. ... 0. 1. 1.]\n"
     ]
    }
   ],
   "source": [
    "print(optimalMean2)"
   ]
  },
  {
   "cell_type": "code",
   "execution_count": 1,
   "metadata": {},
   "outputs": [
    {
     "name": "stdout",
     "output_type": "stream",
     "text": [
      "[1. 1. 1. 1. 1. 1. 1. 1. 1. 1.]\n"
     ]
    }
   ],
   "source": [
    "import numpy as np\n",
    "print(np.ones(10))"
   ]
  },
  {
   "cell_type": "code",
   "execution_count": null,
   "metadata": {},
   "outputs": [],
   "source": []
  }
 ],
 "metadata": {
  "kernelspec": {
   "display_name": "Python 3",
   "language": "python",
   "name": "python3"
  },
  "language_info": {
   "codemirror_mode": {
    "name": "ipython",
    "version": 3
   },
   "file_extension": ".py",
   "mimetype": "text/x-python",
   "name": "python",
   "nbconvert_exporter": "python",
   "pygments_lexer": "ipython3",
   "version": "3.6.4"
  }
 },
 "nbformat": 4,
 "nbformat_minor": 2
}
