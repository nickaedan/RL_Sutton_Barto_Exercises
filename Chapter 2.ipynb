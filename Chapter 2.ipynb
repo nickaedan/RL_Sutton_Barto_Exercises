{
 "cells": [
  {
   "cell_type": "markdown",
   "metadata": {},
   "source": [
    "### Ex2.1\n",
    "2 actions and $\\epsilon = 0.5$, probability of greedy action being selected =   \n",
    "$0.5+0.5*(\\frac{1}{2}) = 0.75$  \n",
    "Since $\\epsilon = 0.5$, either it chose the greedy action in case 1 or if it's randomly going to choose, then it has two options to choose from. So two cases and in case 2 it has two choices to choose from. \n",
    "\n",
    "### Ex2.2\n",
    "k = 4 actions \n",
    "Q1(a) = 0 initially for all a (expected value from action a) \n",
    "\n",
    "A1 = 1, R1 = -1, \n",
    "A2 = 2, R2 = 1, \n",
    "A3 = 2, R3 = -2, \n",
    "A4 = 2, R4 = 2, \n",
    "A5 = 3, R5 = 0\n",
    "\n",
    "At some of these time steps e (epsilon) case may have occured i.e an action could have been selected at random. It is using the sample-average method.\n",
    "\n",
    "$$Q_t(a) = \\frac{\\text{sum of rewards when taken prior to t}}{\\text{number of times a taken prior to t}}$$\n",
    "\n",
    "* Q1(a) = 0 (for all a)\n",
    "___\n",
    "* Q2(1) = $\\frac{-1}{1} = -1$  \n",
    "Q2($A - \\{1\\}$) = 0 (because haven't observed any other actions yet) (actions other than 1)  \n",
    "___\n",
    "* Q3(1) = -1  \n",
    "Q3(2) = $\\frac{1}{1} = 1$  \n",
    "Q3($A - \\{1,2\\}$) = 0\n",
    "___\n",
    "* Q4(1) = -1  \n",
    "Q4(2) =  $\\frac{1+(-2)}{2} = \\frac{-1}{2} = -0.5 $  \n",
    "Q4($A - \\{1,2\\}$) = 0\n",
    "___\n",
    "* Q5(1) = -1  \n",
    "Q5(2) = $\\frac{1+(-2)+2}{3} = \\frac{1}{3} = 0.33 $    \n",
    "Q5($A - \\{1,2\\}$) = 0\n",
    "___ \n",
    "\n",
    "Action |Q1 |Q2 |Q3 |Q4  |Q5\n",
    "-------|---|---|---|--- |---\n",
    "1      | 0 |-1 |-1 |-1  |-1  | \n",
    "2      | 0 | 0 | 1 |-0.5|0.33|\n",
    "3      | 0 | 0 | 0 | 0  | 0  |\n",
    "4      | 0 | 0 | 0 | 0  | 0  |\n",
    "5      | 0 | 0 | 0 | 0  | 0  |\n",
    "action taken | a1| a2| a2| a2| a3\n",
    "\n",
    "\n",
    "* **Time steps at which this definitely occured** =   \n",
    "t = 4 (because it should have picked a3,a4,a5 greedily but picked a2 instead)   \n",
    "\n",
    "* **Time steps at which this could have possibly occured** =   \n",
    "all of the time steps because it's definitely possible that it went into the $\\epsilon$ case and then still picked the greedy choice "
   ]
  },
  {
   "cell_type": "markdown",
   "metadata": {},
   "source": [
    "### Ex 2.3\n",
    "In the long run, $\\epsilon = 0.01$ will perform better, because it will pick the optimal moves   \n",
    "$$0.99 + 0.01*(1/10) = 0.99 + 0.001 = 0.991 = 99.1\\% $$ of the time\n",
    "\n",
    "(Case 1 where it picks greedy + case 2 and then in case 2 picks greedy randomly)*   \n",
    "\n",
    "However in $\\epsilon = 0.1$ it will pick the optimal moves  \n",
    "$$0.9 + 0.1*(1/10) = 0.9 + 0.01 = 0.91 = 91\\% $$ of the time \n",
    "\n",
    "So in the long run $\\epsilon = 0.01$ will perform better, but $\\epsilon = 0.1$ will improve faster.\n",
    "\n",
    "** \\* Made the assumption that there is only one greedy choice to pick from so 1/10 otherwise in practise it could be 2/10 or anything else, cause there could be more than on choice that is the greedy one **"
   ]
  },
  {
   "cell_type": "markdown",
   "metadata": {},
   "source": [
    "### Ex 2.4 \n",
    "\n",
    "Using non-constant step-size parameter $\\alpha_n$ we get - \n",
    "$$ Q_{n+1} = \\prod_{i=1}^{n} (1-\\alpha_i) Q_1 + \\sum_{i=1}^{n} \\prod_{j=i+1}^{n} (1-\\alpha_j) R_i $$\n",
    "\n",
    "### Ex2.5"
   ]
  },
  {
   "cell_type": "code",
   "execution_count": 316,
   "metadata": {},
   "outputs": [],
   "source": [
    "import numpy as np\n",
    "import matplotlib.pyplot as plt\n",
    "import random \n",
    "%matplotlib inline\n",
    "\n",
    "\n",
    "\n",
    "k = 10\n",
    "epsilon = 0.1 \n",
    "\n",
    "#indexing actions by index in list so Q[0] is for a0 \n",
    "q = [1]*k #initially they are all equal \n",
    "Q = [0]*k #intial estimates \n",
    "N = [0]*k #initial n values, number of times the action has occured essentially \n",
    "\n",
    "\n",
    "def bandit(action):\n",
    "    \"\"\"\n",
    "    Returns reward for action by adding noise at each call to q  \n",
    "    \"\"\"\n",
    "    global q\n",
    "    noise = np.random.normal(0,0.01,10) #generate 10 values with mean 0 and sd 0.01 from a normal distribution\n",
    "    q = np.add(q, noise)\n",
    "    return q[action]\n",
    "    #if you want noise in reward\n",
    "    #return np.random.normal(q[action],1)    \n",
    "    \n",
    "def simActionVal(timeSteps, alpha=0):\n",
    "    \"\"\"\n",
    "    When alpha = 0 (default)\n",
    "    Simulates for specified time steps the sample average method i.e action value method \n",
    "    using alpha = 1/n \n",
    "    \n",
    "    Otherwise (alpha != 0)\n",
    "    Simulates for specified time steps the exponential recency-weighted average i.e action value method \n",
    "    using a constant alpha\n",
    "    \n",
    "    Returns rewards received as a list with index of the reward indicative of the time step \n",
    "    and whether it picked the optimal action or not for each time step as a list of 1's and 0's\n",
    "    (1 = picked optimal, 0 = didn't pick optimal)\n",
    "    \"\"\"\n",
    "    global q, Q , N\n",
    "    \n",
    "    rewards = [] #rewards received \n",
    "    pickedBestAction = [] #1 represents that it picked the optimal/best action \n",
    "    \n",
    "    for a in range(timeSteps):\n",
    "        if random.random()<epsilon: #pick an action randomly\n",
    "            action = random.randint(0,k-1) #randint takes inclusive of upper bound\n",
    "        else : \n",
    "            action = np.argmax(Q) #argMax_a Q(a)\n",
    "        \n",
    "        R = bandit(action) #reward \n",
    "        N[action] = N[action] + 1 \n",
    "        \n",
    "        rewards.append(R) #add the reward received at time step 'a' \n",
    "        bestAction = np.argmax(q)\n",
    "        \n",
    "        if bestAction == action: \n",
    "            pickedBestAction.append(1) \n",
    "        else:\n",
    "            pickedBestAction.append(0)\n",
    "        \n",
    "        #Sample average\n",
    "        if alpha == 0: \n",
    "            Q[action] = Q[action] + (1/N[action])*(R-Q[action]) \n",
    "        #constant alpha\n",
    "        else :         \n",
    "            Q[action] = Q[action] + (alpha)*(R-Q[action]) \n",
    "            \n",
    "    return rewards,pickedBestAction\n",
    "\n",
    "def reInit():\n",
    "    \"\"\"\n",
    "    Re intialises values for q, Q and N \n",
    "    \"\"\"\n",
    "    global q, Q, N \n",
    "    q = [1]*k #initially they are all equal \n",
    "    Q = [0]*k #intial estimates \n",
    "    N = [0]*k #initial n values, number of times the action has occured essentially \n",
    "\n",
    "\n",
    "\n",
    "\n"
   ]
  },
  {
   "cell_type": "code",
   "execution_count": 357,
   "metadata": {},
   "outputs": [],
   "source": [
    "def simIndependentRuns(runs, timeSteps=10000, alpha=0):\n",
    "    reInit()\n",
    "    rMean = []\n",
    "    optimalMean = []\n",
    "    for a in range(runs):\n",
    "        r,b = simActionVal(timeSteps,alpha)\n",
    "        if a == 0:\n",
    "            rMean = r   \n",
    "            optimalMean = b\n",
    "        else : \n",
    "            rMean = np.add(rMean,r)\n",
    "            optimalMean = np.add(optimalMean,b)\n",
    "        reInit() \n",
    "    return np.array(rMean)/runs, np.array(optimalMean)/runs"
   ]
  },
  {
   "cell_type": "code",
   "execution_count": 358,
   "metadata": {},
   "outputs": [],
   "source": [
    "rMean, optimalMean = simIndependentRuns(100, alpha=0)\n",
    "\n"
   ]
  },
  {
   "cell_type": "code",
   "execution_count": 359,
   "metadata": {},
   "outputs": [],
   "source": [
    "rMean2, optimalMean2 = simIndependentRuns(100, alpha=0.1)\n"
   ]
  },
  {
   "cell_type": "code",
   "execution_count": 360,
   "metadata": {},
   "outputs": [
    {
     "data": {
      "image/png": "[encoded data removed]",
      "text/plain": [
       "<Figure size 432x288 with 1 Axes>"
      ]
     },
     "metadata": {},
     "output_type": "display_data"
    }
   ],
   "source": [
    "#plt.yticks(np.arange(0, 1, step=0.2))\n",
    "#plt.yticks(np.arange(0, 1.5, step=0.5))\n",
    "plt.axis([0,10000,0,3.5])\n",
    "plt.yticks(np.arange(0, 3, step=0.5))\n",
    "plt.plot(range(10000), rMean)\n",
    "plt.plot(range(10000), rMean2)\n",
    "\n",
    "plt.show()\n",
    "\n",
    "#print(max(optimalMean2*100))"
   ]
  },
  {
   "cell_type": "code",
   "execution_count": 361,
   "metadata": {},
   "outputs": [
    {
     "data": {
      "image/png": "[encoded data removed]",
      "text/plain": [
       "<Figure size 432x288 with 1 Axes>"
      ]
     },
     "metadata": {},
     "output_type": "display_data"
    }
   ],
   "source": [
    "#plt.axis([0,10000,0,2.5])\n",
    "plt.plot(range(10000),optimalMean*100)\n",
    "plt.plot(range(10000),optimalMean2*100)\n",
    "plt.show()"
   ]
  },
  {
   "cell_type": "code",
   "execution_count": 220,
   "metadata": {},
   "outputs": [
    {
     "name": "stdout",
     "output_type": "stream",
     "text": [
      "[[0.16743389526971386, 1], [1.2962488569324764, 1], [0.6237343868931569, 1], [-1.580179007053337, 1], [-0.3529035498417033, 1], [-0.05746007422951564, 1], [0.4949000554297657, 1], [-0.10550588513822483, 1], [1.9027964331617921, 1], [1.9398741786891427, 1]]\n"
     ]
    }
   ],
   "source": []
  }
 ],
 "metadata": {
  "kernelspec": {
   "display_name": "Python 3",
   "language": "python",
   "name": "python3"
  },
  "language_info": {
   "codemirror_mode": {
    "name": "ipython",
    "version": 3
   },
   "file_extension": ".py",
   "mimetype": "text/x-python",
   "name": "python",
   "nbconvert_exporter": "python",
   "pygments_lexer": "ipython3",
   "version": "3.6.4"
  }
 },
 "nbformat": 4,
 "nbformat_minor": 2
}
